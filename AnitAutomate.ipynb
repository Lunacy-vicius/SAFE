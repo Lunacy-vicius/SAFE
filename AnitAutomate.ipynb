{
 "cells": [
  {
   "cell_type": "markdown",
   "id": "0e7a852a",
   "metadata": {},
   "source": [
    "Importacion de todas las librerias a ocupar"
   ]
  },
  {
   "cell_type": "code",
   "execution_count": null,
   "id": "f8bf182a",
   "metadata": {},
   "outputs": [],
   "source": [
    "import os\n",
    "import glob\n",
    "import shutil\n",
    "import pyPDF2\n",
    "import pyautogui\n",
    "import time\n",
    "import fitz\n",
    "import pytesseract\n"
   ]
  },
  {
   "cell_type": "markdown",
   "id": "d0097d02",
   "metadata": {},
   "source": [
    "Organizacion de ficheros y extraccion de datos"
   ]
  },
  {
   "cell_type": "code",
   "execution_count": null,
   "id": "86b92016",
   "metadata": {},
   "outputs": [],
   "source": [
    "ruta=r'C:/ruta/a/la/carpeta'\n",
    "os.startfile(ruta)\n",
    "# Iterar sobre todos los archivos PDF en la carpeta\n",
    "for archivo in os.listdir(ruta):\n",
    "    if archivo.endswith('.pdf'):\n",
    "        pdf_path = os.path.join(ruta, archivo)\n",
    "        print(f\"Procesando: {archivo}\")"
   ]
  },
  {
   "cell_type": "code",
   "execution_count": null,
   "id": "f2d19b9d",
   "metadata": {},
   "outputs": [],
   "source": [
    "from typing import List, Dic\n",
    "def procesar_pdfs_en_carpeta(carpeta_pdf: Str, areas_interes: Dict) ->List[Dict]:\n",
    "datos_extraidos = []\n",
    "\n",
    "#obtener lista de archivos PDF en la carpeta\n",
    "archivos_pdf = [f for in os.listdir(carpeta_pdf) if f.lower().endswith('.pdf')]\n",
    "if not archivos_pdf:\n",
    "    print(\"No se encontraron archivos PDF en la carpeta.\")\n",
    "    return datos_extraidos\n",
    "for archivo_pdf in archivos_pdf:\n",
    "    ruta_completa = os.path.join(carpeta_pdf, archivo_pdf)\n",
    "    try:\n",
    "        datos_pdf = extraer_datos_de_pdf(ruta_completa, areas_interes)\n",
    "        datos_pdf['nombre_archivo'] = archivo_pdf\n",
    "        datos_extraidos.append(datos_pdf)\n",
    "        print(f\"Datos extraídos de {archivo_pdf}\"\n",
    "    except Exception as e:\n",
    "        print(f\"Error al procesar {archivo_pdf}: {str(e)}\")\n",
    "    return datos_extraidos\n",
    "def extraer_datos_de_pdf(ruta_pdf: str, areas_interes: Dict) -> Dict:\n",
    "    datos = {}\n",
    "    doc = fitz.open(ruta_pdf)\n",
    "    for pagina_num, pagina in enumerate(doc):\n",
    "        for area_nombre, coordenadas in areas_interes.items():\n",
    "            #crear rectangulo con las coordenadas (x0,y0,x1,y1)\n",
    "            rect = fitz.Rect(coordenadas['x0'], coordenadas['y0'], coordenadas['x1'], coordenadas['y1'])\n",
    "            texto = pagina.get_text(\"text\", clip=rect).strip()\n",
    "            if area_nombre not in datos or texto:\n",
    "                datos[area_nombre] = texto\n",
    "        # Si se encuentra el texto en la página, salir del bucle    \n",
    "doc.close()\n",
    "    return datos "
   ]
  },
  {
   "cell_type": "code",
   "execution_count": null,
   "id": "77e4d985",
   "metadata": {},
   "outputs": [],
   "source": [
    "doc = fitz.open(\"archivo.pdf\")\n",
    "for i, pagina in enumerate(doc):\n",
    "    # Extraer texto de la página\n",
    "    texto = pagina.get_text()\n",
    "    if texto.strip():\n",
    "        print(f\"Texto extraído de la página {i + 1}:\\n\")\n",
    "    else:\n",
    "        print(f\"pag{i + 1} no tiene texto extraible.\\n\")\n",
    "    # Guardar el texto en un archivo de texto\n",
    "    with open(f\"pagina_{i + 1}.txt\", \"w\", encoding=\"utf-8\") as f:\n",
    "        f.write(texto)"
   ]
  },
  {
   "cell_type": "code",
   "execution_count": null,
   "id": "b6e98dc2",
   "metadata": {},
   "outputs": [],
   "source": [
    "imagen = pagina.get_pixmap(dpi=300)\n",
    "imagen.save(\"pagina.png\")\n",
    "from PIL import Image\n",
    "texto_ocr=\n",
    "pytesseract.image_to_string(Image.open(\"pagina.png\"), lang=\"spa\")\n",
    "print(texto_ocr)\n"
   ]
  },
  {
   "cell_type": "code",
   "execution_count": null,
   "id": "bc9ebe5e",
   "metadata": {},
   "outputs": [],
   "source": [
    "#iteramos la lectura del pdf pagina a pagina\n",
    "count = pdfReader.numPages\n",
    "mi_texto = \"\"\n",
    "for i in range(count):\n",
    "    page = pdfReader.getPage(i)\n",
    "    mi_texto += page.extractText()\n",
    "    print(mi_texto)\n",
    "    mi_texto = mi_texto + texto_pag "
   ]
  },
  {
   "cell_type": "code",
   "execution_count": null,
   "id": "24423e07",
   "metadata": {},
   "outputs": [],
   "source": [
    "lista_ficheros_pdf = glob.glob(ruta + '/*.pdf')\n",
    "for i in range(len(lista_ficheros_pdf)):\n",
    "    lista_ficheros_pdf[i] = lista_ficheros_pdf[i].split('\\\\')[-1]\n",
    "    lista_ficheros_pdf[i] = lista_ficheros_pdf[i].split('.')[0]\n",
    "    print(lista_ficheros_pdf[i])"
   ]
  },
  {
   "cell_type": "code",
   "execution_count": null,
   "id": "e1291292",
   "metadata": {},
   "outputs": [],
   "source": [
    "#nos quedamos solo con los nombres del fichero\n",
    "lista_ficheros_pf =list(map(lambda x: x.replace('ruta',''), lista_ficheros_pdf))"
   ]
  },
  {
   "cell_type": "code",
   "execution_count": null,
   "id": "88603fd0",
   "metadata": {},
   "outputs": [],
   "source": [
    "lista_ficheros_pdf"
   ]
  },
  {
   "cell_type": "code",
   "execution_count": null,
   "id": "92380ab8",
   "metadata": {},
   "outputs": [],
   "source": [
    "#creamos un diccionario con los datos de la receta\n",
    "diccionario_Receta = dict(zip(lista_ficheros_pdf, lista_var2))"
   ]
  },
  {
   "cell_type": "code",
   "execution_count": null,
   "id": "990cc480",
   "metadata": {},
   "outputs": [],
   "source": [
    "diccionario_Receta"
   ]
  },
  {
   "cell_type": "code",
   "execution_count": null,
   "id": "7efb16c3",
   "metadata": {},
   "outputs": [],
   "source": [
    "#crear una carpeta por servicio\n",
    "Carpeta_organizacion_recetas =\"Recetas por servicio\""
   ]
  },
  {
   "cell_type": "code",
   "execution_count": null,
   "id": "d505e536",
   "metadata": {},
   "outputs": [],
   "source": [
    "#Creamos nueva carpeta dentro de outputs llamada \"Recetas por servicio\"\n",
    "os.mkdir(os.path.join(ruta, Carpeta_organizacion_recetas))"
   ]
  },
  {
   "cell_type": "code",
   "execution_count": null,
   "id": "74d3d3f6",
   "metadata": {},
   "outputs": [],
   "source": [
    "#verificamos los diferentes servicios que hay\n",
    "Servicios = list(set(lista_servicios))"
   ]
  },
  {
   "cell_type": "code",
   "execution_count": null,
   "id": "5cf2464f",
   "metadata": {},
   "outputs": [],
   "source": [
    "Servicios"
   ]
  },
  {
   "cell_type": "code",
   "execution_count": null,
   "id": "ba6d1eec",
   "metadata": {},
   "outputs": [],
   "source": [
    "#creamos una sub carpeta por cada servicio\n",
    "for servicio in Servicios:\n",
    "    os.mkdir(os.path.join(ruta, Carpeta_organizacion_recetas, servicio))\n",
    "    print(f\"Carpeta creada: {servicio}\")\n",
    "    #mover los pdf a la carpeta correspondiente\n",
    "    for i in range(len(lista_ficheros_pdf)):\n",
    "        if lista_ficheros_pdf[i] == servicio:\n",
    "            os.rename(os.path.join(ruta, lista_ficheros_pdf[i]), os.path.join(ruta, Carpeta_organizacion_recetas, servicio, lista_ficheros_pdf[i]))\n",
    "            print(f\"Archivo movido: {lista_ficheros_pdf[i]}\")"
   ]
  },
  {
   "cell_type": "code",
   "execution_count": null,
   "id": "e2d7ac4e",
   "metadata": {},
   "outputs": [],
   "source": [
    "import shutil\n",
    "Shutil.copyfile('ruta/origen', 'ruta/destino')\n",
    "for receta_servicio, receta_value in diccionario_Receta.items():\n",
    "    for receta_servicio, receta_value in diccionario_Receta.items():\n",
    "        Shutil.copyfile(os.path.join(ruta, receta_servicio), os.path.join(ruta, Carpeta_organizacion_recetas, receta_value))"
   ]
  },
  {
   "cell_type": "code",
   "execution_count": null,
   "id": "f5f81065",
   "metadata": {},
   "outputs": [],
   "source": [
    "#cerrar fichero"
   ]
  },
  {
   "cell_type": "markdown",
   "id": "5a4dca63",
   "metadata": {},
   "source": [
    "Automatización web"
   ]
  },
  {
   "cell_type": "code",
   "execution_count": null,
   "id": "f669c011",
   "metadata": {},
   "outputs": [],
   "source": [
    "#ACCESO A LA WEBSAFE\n",
    "\n",
    "import pyautogui\n",
    "pyautogui.size()\n",
    "#posicion actual del raton\n",
    "pyautogui.position()\n",
    "#mover a Usuario\n",
    "pyautogui.moveTo(100, 200, duration=1)\n",
    "#hacer click en posicion\n",
    "pyautogui.click(100, 200)\n",
    "#escribir Usuario\n",
    "pyautogui.write('419601', interval=0.1)\n",
    "pyautogui.moveTo(120, 200, duration=1)\n",
    "#hacer click en posicion\n",
    "pyautogui.click(120, 200)\n",
    "#escribir Contraseña\n",
    "pyautogui.write('419601CONTRA', interval=0.1)\n",
    "#hacer click en el boton de entrar\n",
    "pyautogui.click(200, 200)   \n",
    "#Hacer clic en el boton del centro de mezclas\n",
    "pyautogui.click(100, 200)\n"
   ]
  },
  {
   "cell_type": "code",
   "execution_count": null,
   "id": "2c4c2e7e",
   "metadata": {},
   "outputs": [],
   "source": [
    "from selenium import webdriver\n",
    "from selenium.webdriver.common.by import By\n",
    "from selenium.webdriver.chrome.service import Service\n",
    "from webdriver_manager.chrome import ChromeDriverManager\n",
    "from selenium.webdriver.support.ui import WebDriverWait\n",
    "from selenium.webdriver.support import expected_conditions as EC\n",
    "from selenium.common.exceptions import TimeoutException, NoSuchElementException\n",
    "import configparser\n",
    "\n",
    "driver = webdriver.Chrome(service=Service(Chrome(ChromeDriverManager())))\n",
    "driver.get(\"https://www.websafe2.com\")\n",
    "elem = driver.find_element(By.CSS_SELECTOR, #username\n",
    "elem.click()\n",
    "elem.send_keys('419601')\n",
    "elem.submit()\n",
    "elem = driver.find_element(By.CSS_SELECTOR, #Text1)\n",
    "elem.click()\n",
    "elem.send_keys('419601Rica')\n",
    "elem.submit()\n",
    "elem = driver.find_element(By.CSS_SELECTOR, #aceptar)\n",
    "elem.click()\n",
    "elem = driver.find_element(By.CSS_SELECTOR, body > form > div.row-fluid.quick-actions.centros > div:nth-child(1) > a > div)"
   ]
  },
  {
   "cell_type": "code",
   "execution_count": null,
   "id": "476a9f08",
   "metadata": {},
   "outputs": [],
   "source": [
    "#captura de Antibioticos\n",
    "pyautogui.moveTo(100, 200, duration=1)\n",
    "#hacer click en posicion\n",
    "pyautogui.click(100, 200)\n",
    "#Cliente Hospital general de mexico\n",
    "pyautogui.write('Cliente Hospital general de mexico', interval=0.1)\n",
    "pyautogui.press('tab')\n",
    "presionar_tab()\n",
    "#tipo de mezcla\n",
    "pyautogui.write('Antibiotico', interval=0.1)\n",
    "pyautogui.press('tab')\n",
    "#servicio Condicional\n",
    "def definir_servicio_por_texto(texto_entrada): #poner todos los servicios\n",
    "texto_lower = texto_entrada.lower()\n",
    "if 'Oncologia' in texto_lower:\n",
    "    return 'Oncologia'\n",
    "elif 'Hematologia 103' in texto_lower:\n",
    "    return 'Hematologia 103'\n",
    "elif 'Medicina interna 103' in texto_lower:\n",
    "    return 'Medicina interna 103'\n",
    "elif 'Dermatologia' in texto_lower:\n",
    "    return 'Dermatologia'\n",
    "else:\n",
    "    return 'None'\n",
    "\n",
    "#escribir_servicio('Condicional')\n",
    "\n",
    "#Escribir tipo de contenedor NAFCO\n",
    "pyautogui.click(100, 200)\n",
    "#hacer click en posicion    \n",
    "pyautogui.press('tab')\n",
    "#hacer condicion en tipo de antibiotico\n",
    "pyautogui.write('Ceftriaxona', interval=0.1)\n",
    "pyautogui.press('tab')\n",
    "#tipo de solvente\n",
    "pyautogui.write('Dextrosa ss', interval=0.1)\n",
    "pyautogui.press('tab')\n",
    "#tipo de contenedor\n",
    "pyautogui.write('vaciado', interval=0.1)\n",
    "pyautogui.press('tab')\n",
    "#volumen\n",
    "pyautogui.write('100', interval=0.1)\n",
    "pyautogui.press('tab')\n",
    "#numero de bolos\n",
    "pyautogui.write('1', interval=0.1)\n",
    "#enviar\n",
    "pyautogui.click(100, 200)\n",
    "#hacer click en posicion"
   ]
  },
  {
   "cell_type": "code",
   "execution_count": null,
   "id": "00367d44",
   "metadata": {},
   "outputs": [],
   "source": [
    "#captura de oncologicos\n",
    "pyautogui.moveTo(100, 200, duration=1)\n",
    "#hacer click en posicion\n",
    "pyautogui.click(100, 200)\n",
    "#Cliente Hospital general de mexico\n",
    "pyautogui.write('Cliente Hospital general de mexico', interval=0.1)\n",
    "pyautogui.press('tab')\n",
    "presionar_tab()\n",
    "#tipo de mezcla\n",
    "pyautogui.write('Oncologico', interval=0.1)\n",
    "pyautogui.press('tab')\n",
    "#servicio Condicional\n",
    "def escribir_servicio(servicio):\n",
    "    pyautogui.write(servicio, interval=0.1)"
   ]
  },
  {
   "cell_type": "code",
   "execution_count": null,
   "id": "3c5e8aeb",
   "metadata": {},
   "outputs": [],
   "source": [
    "#captura de nutriciones\n",
    "pyautogui.moveTo(100, 200, duration=1)\n",
    "#hacer click en posicion\n",
    "pyautogui.click(100, 200)\n",
    "#Cliente Hospital general de mexico\n",
    "pyautogui.write('Cliente Hospital general de mexico', interval=0.1)\n",
    "pyautogui.press('tab')\n",
    "presionar_tab()\n",
    "#tipo de mezcla\n",
    "pyautogui.write('Nutricion', interval=0.1)\n",
    "pyautogui.press('tab')\n",
    "#servicio Condicional\n",
    "def escribir_servicio(servicio):\n",
    "    pyautogui.write(servicio, interval=0.1)"
   ]
  }
 ],
 "metadata": {
  "language_info": {
   "name": "python"
  }
 },
 "nbformat": 4,
 "nbformat_minor": 5
}
