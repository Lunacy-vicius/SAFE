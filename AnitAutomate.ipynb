{
 "cells": [
  {
   "cell_type": "code",
   "execution_count": null,
   "id": "86b92016",
   "metadata": {},
   "outputs": [],
   "source": [
    "import os\n",
    "import glob\n",
    "ruta=r'C:/ruta/a/la/carpeta'\n",
    "os.startfile(ruta)\n",
    "# Iterar sobre todos los archivos PDF en la carpeta\n",
    "for archivo in os.listdir(ruta):\n",
    "    if archivo.endswith('.pdf'):\n",
    "        pdf_path = os.path.join(ruta, archivo)\n",
    "        print(f\"Procesando: {archivo}\")"
   ]
  },
  {
   "cell_type": "code",
   "execution_count": null,
   "id": "f18fde2a",
   "metadata": {},
   "outputs": [],
   "source": [
    "import PyPDF2\n",
    "pdffileObject = open(ruta, 'rb')\n",
    "pdfReader = PyPDF2.PdfFileReader(pdffileObject) #objeto que lee el pdf"
   ]
  },
  {
   "cell_type": "code",
   "execution_count": null,
   "id": "d05739ad",
   "metadata": {},
   "outputs": [],
   "source": [
    "pag_0=pdfReader.getPage(0)\n",
    "pag_0.extractText()"
   ]
  },
  {
   "cell_type": "code",
   "execution_count": null,
   "id": "bc9ebe5e",
   "metadata": {},
   "outputs": [],
   "source": [
    "#iteramos la lectura del pdf pagina a pagina\n",
    "count = pdfReader.numPages\n",
    "mi_texto = \"\"\n",
    "for i in range(count):\n",
    "    page = pdfReader.getPage(i)\n",
    "    mi_texto += page.extractText()\n",
    "    print(mi_texto)\n",
    "    mi_texto = mi_texto + texto_pag "
   ]
  },
  {
   "cell_type": "code",
   "execution_count": null,
   "id": "0f10b2e3",
   "metadata": {},
   "outputs": [],
   "source": [
    "Variable1 = pag.extractText.find('\\n') #identificamos donde se encuentra el rpimer salto de linea"
   ]
  },
  {
   "cell_type": "code",
   "execution_count": null,
   "id": "24423e07",
   "metadata": {},
   "outputs": [],
   "source": [
    "lista_ficheros_pdf = glob.glob(ruta + '/*.pdf')\n",
    "for i in range(len(lista_ficheros_pdf)):\n",
    "    lista_ficheros_pdf[i] = lista_ficheros_pdf[i].split('\\\\')[-1]\n",
    "    lista_ficheros_pdf[i] = lista_ficheros_pdf[i].split('.')[0]\n",
    "    print(lista_ficheros_pdf[i])"
   ]
  },
  {
   "cell_type": "code",
   "execution_count": null,
   "id": "e1291292",
   "metadata": {},
   "outputs": [],
   "source": [
    "#nos quedamos solo con los nombres del fichero\n",
    "lista_ficheros_pf =list(map(lambda x: x.replace('ruta',''), lista_ficheros_pdf))"
   ]
  },
  {
   "cell_type": "code",
   "execution_count": null,
   "id": "88603fd0",
   "metadata": {},
   "outputs": [],
   "source": [
    "lista_ficheros_pdf"
   ]
  },
  {
   "cell_type": "code",
   "execution_count": null,
   "id": "92380ab8",
   "metadata": {},
   "outputs": [],
   "source": [
    "#creamos un diccionario con los datos de la receta\n",
    "diccionario_Receta = dict(zip(lista_ficheros_pdf, lista_var2))"
   ]
  },
  {
   "cell_type": "code",
   "execution_count": null,
   "id": "990cc480",
   "metadata": {},
   "outputs": [],
   "source": [
    "diccionario_Receta"
   ]
  },
  {
   "cell_type": "code",
   "execution_count": null,
   "id": "7efb16c3",
   "metadata": {},
   "outputs": [],
   "source": [
    "#crear una carpeta por servicio\n",
    "Carpeta_organizacion_recetas =\"Recetas por servicio\""
   ]
  },
  {
   "cell_type": "code",
   "execution_count": null,
   "id": "d505e536",
   "metadata": {},
   "outputs": [],
   "source": [
    "#Creamos nueva carpeta dentro de outputs llamada \"Recetas por servicio\"\n",
    "os.mkdir(os.path.join(ruta, Carpeta_organizacion_recetas))"
   ]
  },
  {
   "cell_type": "code",
   "execution_count": null,
   "id": "74d3d3f6",
   "metadata": {},
   "outputs": [],
   "source": [
    "#verificamos los diferentes servicios que hay\n",
    "Servicios = list(set(lista_servicios))"
   ]
  },
  {
   "cell_type": "code",
   "execution_count": null,
   "id": "5cf2464f",
   "metadata": {},
   "outputs": [],
   "source": [
    "Servicios"
   ]
  },
  {
   "cell_type": "code",
   "execution_count": null,
   "id": "ba6d1eec",
   "metadata": {},
   "outputs": [],
   "source": [
    "#creamos una sub carpeta por cada servicio\n",
    "for servicio in Servicios:\n",
    "    os.mkdir(os.path.join(ruta, Carpeta_organizacion_recetas, servicio))\n",
    "    print(f\"Carpeta creada: {servicio}\")\n",
    "    #mover los pdf a la carpeta correspondiente\n",
    "    for i in range(len(lista_ficheros_pdf)):\n",
    "        if lista_ficheros_pdf[i] == servicio:\n",
    "            os.rename(os.path.join(ruta, lista_ficheros_pdf[i]), os.path.join(ruta, Carpeta_organizacion_recetas, servicio, lista_ficheros_pdf[i]))\n",
    "            print(f\"Archivo movido: {lista_ficheros_pdf[i]}\")"
   ]
  },
  {
   "cell_type": "code",
   "execution_count": null,
   "id": "f5f81065",
   "metadata": {},
   "outputs": [],
   "source": [
    "#cerrar fichero"
   ]
  }
 ],
 "metadata": {
  "language_info": {
   "name": "python"
  }
 },
 "nbformat": 4,
 "nbformat_minor": 5
}
